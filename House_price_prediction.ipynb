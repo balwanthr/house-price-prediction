{
  "nbformat": 4,
  "nbformat_minor": 0,
  "metadata": {
    "colab": {
      "provenance": [],
      "authorship_tag": "ABX9TyPzgZyRwtHm9wAJsNiLX8c9",
      "include_colab_link": true
    },
    "kernelspec": {
      "name": "python3",
      "display_name": "Python 3"
    },
    "language_info": {
      "name": "python"
    },
    "widgets": {
      "application/vnd.jupyter.widget-state+json": {
        "140c0ccdb1104de286aff481dfa2076e": {
          "model_module": "@jupyter-widgets/controls",
          "model_name": "HBoxModel",
          "model_module_version": "1.5.0",
          "state": {
            "_dom_classes": [],
            "_model_module": "@jupyter-widgets/controls",
            "_model_module_version": "1.5.0",
            "_model_name": "HBoxModel",
            "_view_count": null,
            "_view_module": "@jupyter-widgets/controls",
            "_view_module_version": "1.5.0",
            "_view_name": "HBoxView",
            "box_style": "",
            "children": [
              "IPY_MODEL_bd4d66f1652a4848a0c1667179bd82c5",
              "IPY_MODEL_84e091c43d074a1d992917edb1ab1ee4",
              "IPY_MODEL_e13b733fee9942b5b01224517704210c"
            ],
            "layout": "IPY_MODEL_3c368aa5e4ad48f0a8ac3f83cb246e2b"
          }
        },
        "bd4d66f1652a4848a0c1667179bd82c5": {
          "model_module": "@jupyter-widgets/controls",
          "model_name": "HTMLModel",
          "model_module_version": "1.5.0",
          "state": {
            "_dom_classes": [],
            "_model_module": "@jupyter-widgets/controls",
            "_model_module_version": "1.5.0",
            "_model_name": "HTMLModel",
            "_view_count": null,
            "_view_module": "@jupyter-widgets/controls",
            "_view_module_version": "1.5.0",
            "_view_name": "HTMLView",
            "description": "",
            "description_tooltip": null,
            "layout": "IPY_MODEL_babe8b0b2e3043deb300d8789af9a510",
            "placeholder": "​",
            "style": "IPY_MODEL_5a1467f5de9442909c3c83207c2b8002",
            "value": "Loading sheets: 100%"
          }
        },
        "84e091c43d074a1d992917edb1ab1ee4": {
          "model_module": "@jupyter-widgets/controls",
          "model_name": "FloatProgressModel",
          "model_module_version": "1.5.0",
          "state": {
            "_dom_classes": [],
            "_model_module": "@jupyter-widgets/controls",
            "_model_module_version": "1.5.0",
            "_model_name": "FloatProgressModel",
            "_view_count": null,
            "_view_module": "@jupyter-widgets/controls",
            "_view_module_version": "1.5.0",
            "_view_name": "ProgressView",
            "bar_style": "success",
            "description": "",
            "description_tooltip": null,
            "layout": "IPY_MODEL_ae043be0e5ec4ea4985c390605c5896e",
            "max": 1,
            "min": 0,
            "orientation": "horizontal",
            "style": "IPY_MODEL_16031a8435e84a20beefa3790437ccbc",
            "value": 1
          }
        },
        "e13b733fee9942b5b01224517704210c": {
          "model_module": "@jupyter-widgets/controls",
          "model_name": "HTMLModel",
          "model_module_version": "1.5.0",
          "state": {
            "_dom_classes": [],
            "_model_module": "@jupyter-widgets/controls",
            "_model_module_version": "1.5.0",
            "_model_name": "HTMLModel",
            "_view_count": null,
            "_view_module": "@jupyter-widgets/controls",
            "_view_module_version": "1.5.0",
            "_view_name": "HTMLView",
            "description": "",
            "description_tooltip": null,
            "layout": "IPY_MODEL_3a233f88c18d48c5a7d483e90f131950",
            "placeholder": "​",
            "style": "IPY_MODEL_b671c52502c74fec9a98b06bd1181a56",
            "value": " 1/1 [00:00&lt;00:00, 23.47it/s]"
          }
        },
        "3c368aa5e4ad48f0a8ac3f83cb246e2b": {
          "model_module": "@jupyter-widgets/base",
          "model_name": "LayoutModel",
          "model_module_version": "1.2.0",
          "state": {
            "_model_module": "@jupyter-widgets/base",
            "_model_module_version": "1.2.0",
            "_model_name": "LayoutModel",
            "_view_count": null,
            "_view_module": "@jupyter-widgets/base",
            "_view_module_version": "1.2.0",
            "_view_name": "LayoutView",
            "align_content": null,
            "align_items": null,
            "align_self": null,
            "border": null,
            "bottom": null,
            "display": null,
            "flex": null,
            "flex_flow": null,
            "grid_area": null,
            "grid_auto_columns": null,
            "grid_auto_flow": null,
            "grid_auto_rows": null,
            "grid_column": null,
            "grid_gap": null,
            "grid_row": null,
            "grid_template_areas": null,
            "grid_template_columns": null,
            "grid_template_rows": null,
            "height": null,
            "justify_content": null,
            "justify_items": null,
            "left": null,
            "margin": null,
            "max_height": null,
            "max_width": null,
            "min_height": null,
            "min_width": null,
            "object_fit": null,
            "object_position": null,
            "order": null,
            "overflow": null,
            "overflow_x": null,
            "overflow_y": null,
            "padding": null,
            "right": null,
            "top": null,
            "visibility": null,
            "width": null
          }
        },
        "babe8b0b2e3043deb300d8789af9a510": {
          "model_module": "@jupyter-widgets/base",
          "model_name": "LayoutModel",
          "model_module_version": "1.2.0",
          "state": {
            "_model_module": "@jupyter-widgets/base",
            "_model_module_version": "1.2.0",
            "_model_name": "LayoutModel",
            "_view_count": null,
            "_view_module": "@jupyter-widgets/base",
            "_view_module_version": "1.2.0",
            "_view_name": "LayoutView",
            "align_content": null,
            "align_items": null,
            "align_self": null,
            "border": null,
            "bottom": null,
            "display": null,
            "flex": null,
            "flex_flow": null,
            "grid_area": null,
            "grid_auto_columns": null,
            "grid_auto_flow": null,
            "grid_auto_rows": null,
            "grid_column": null,
            "grid_gap": null,
            "grid_row": null,
            "grid_template_areas": null,
            "grid_template_columns": null,
            "grid_template_rows": null,
            "height": null,
            "justify_content": null,
            "justify_items": null,
            "left": null,
            "margin": null,
            "max_height": null,
            "max_width": null,
            "min_height": null,
            "min_width": null,
            "object_fit": null,
            "object_position": null,
            "order": null,
            "overflow": null,
            "overflow_x": null,
            "overflow_y": null,
            "padding": null,
            "right": null,
            "top": null,
            "visibility": null,
            "width": null
          }
        },
        "5a1467f5de9442909c3c83207c2b8002": {
          "model_module": "@jupyter-widgets/controls",
          "model_name": "DescriptionStyleModel",
          "model_module_version": "1.5.0",
          "state": {
            "_model_module": "@jupyter-widgets/controls",
            "_model_module_version": "1.5.0",
            "_model_name": "DescriptionStyleModel",
            "_view_count": null,
            "_view_module": "@jupyter-widgets/base",
            "_view_module_version": "1.2.0",
            "_view_name": "StyleView",
            "description_width": ""
          }
        },
        "ae043be0e5ec4ea4985c390605c5896e": {
          "model_module": "@jupyter-widgets/base",
          "model_name": "LayoutModel",
          "model_module_version": "1.2.0",
          "state": {
            "_model_module": "@jupyter-widgets/base",
            "_model_module_version": "1.2.0",
            "_model_name": "LayoutModel",
            "_view_count": null,
            "_view_module": "@jupyter-widgets/base",
            "_view_module_version": "1.2.0",
            "_view_name": "LayoutView",
            "align_content": null,
            "align_items": null,
            "align_self": null,
            "border": null,
            "bottom": null,
            "display": null,
            "flex": null,
            "flex_flow": null,
            "grid_area": null,
            "grid_auto_columns": null,
            "grid_auto_flow": null,
            "grid_auto_rows": null,
            "grid_column": null,
            "grid_gap": null,
            "grid_row": null,
            "grid_template_areas": null,
            "grid_template_columns": null,
            "grid_template_rows": null,
            "height": null,
            "justify_content": null,
            "justify_items": null,
            "left": null,
            "margin": null,
            "max_height": null,
            "max_width": null,
            "min_height": null,
            "min_width": null,
            "object_fit": null,
            "object_position": null,
            "order": null,
            "overflow": null,
            "overflow_x": null,
            "overflow_y": null,
            "padding": null,
            "right": null,
            "top": null,
            "visibility": null,
            "width": null
          }
        },
        "16031a8435e84a20beefa3790437ccbc": {
          "model_module": "@jupyter-widgets/controls",
          "model_name": "ProgressStyleModel",
          "model_module_version": "1.5.0",
          "state": {
            "_model_module": "@jupyter-widgets/controls",
            "_model_module_version": "1.5.0",
            "_model_name": "ProgressStyleModel",
            "_view_count": null,
            "_view_module": "@jupyter-widgets/base",
            "_view_module_version": "1.2.0",
            "_view_name": "StyleView",
            "bar_color": null,
            "description_width": ""
          }
        },
        "3a233f88c18d48c5a7d483e90f131950": {
          "model_module": "@jupyter-widgets/base",
          "model_name": "LayoutModel",
          "model_module_version": "1.2.0",
          "state": {
            "_model_module": "@jupyter-widgets/base",
            "_model_module_version": "1.2.0",
            "_model_name": "LayoutModel",
            "_view_count": null,
            "_view_module": "@jupyter-widgets/base",
            "_view_module_version": "1.2.0",
            "_view_name": "LayoutView",
            "align_content": null,
            "align_items": null,
            "align_self": null,
            "border": null,
            "bottom": null,
            "display": null,
            "flex": null,
            "flex_flow": null,
            "grid_area": null,
            "grid_auto_columns": null,
            "grid_auto_flow": null,
            "grid_auto_rows": null,
            "grid_column": null,
            "grid_gap": null,
            "grid_row": null,
            "grid_template_areas": null,
            "grid_template_columns": null,
            "grid_template_rows": null,
            "height": null,
            "justify_content": null,
            "justify_items": null,
            "left": null,
            "margin": null,
            "max_height": null,
            "max_width": null,
            "min_height": null,
            "min_width": null,
            "object_fit": null,
            "object_position": null,
            "order": null,
            "overflow": null,
            "overflow_x": null,
            "overflow_y": null,
            "padding": null,
            "right": null,
            "top": null,
            "visibility": null,
            "width": null
          }
        },
        "b671c52502c74fec9a98b06bd1181a56": {
          "model_module": "@jupyter-widgets/controls",
          "model_name": "DescriptionStyleModel",
          "model_module_version": "1.5.0",
          "state": {
            "_model_module": "@jupyter-widgets/controls",
            "_model_module_version": "1.5.0",
            "_model_name": "DescriptionStyleModel",
            "_view_count": null,
            "_view_module": "@jupyter-widgets/base",
            "_view_module_version": "1.2.0",
            "_view_name": "StyleView",
            "description_width": ""
          }
        },
        "59200c2bf8db46b5bc3d3bc3186e2986": {
          "model_module": "@jupyter-widgets/controls",
          "model_name": "VBoxModel",
          "model_module_version": "1.5.0",
          "state": {
            "_dom_classes": [
              "widget-interact"
            ],
            "_model_module": "@jupyter-widgets/controls",
            "_model_module_version": "1.5.0",
            "_model_name": "VBoxModel",
            "_view_count": null,
            "_view_module": "@jupyter-widgets/controls",
            "_view_module_version": "1.5.0",
            "_view_name": "VBoxView",
            "box_style": "",
            "children": [
              "IPY_MODEL_8b7b1d50f8b6470c9ec4baed1625fd50",
              "IPY_MODEL_44d9d89b0b7c43ae8422b43cd2649d94",
              "IPY_MODEL_3564778461a24157b98ef3b2ca1c9bf8",
              "IPY_MODEL_666b96cb076d4f76a5fb5fd51067db95"
            ],
            "layout": "IPY_MODEL_95c71b7da2a24e2aaf4285978c29ae8a"
          }
        },
        "8b7b1d50f8b6470c9ec4baed1625fd50": {
          "model_module": "@jupyter-widgets/controls",
          "model_name": "IntSliderModel",
          "model_module_version": "1.5.0",
          "state": {
            "_dom_classes": [],
            "_model_module": "@jupyter-widgets/controls",
            "_model_module_version": "1.5.0",
            "_model_name": "IntSliderModel",
            "_view_count": null,
            "_view_module": "@jupyter-widgets/controls",
            "_view_module_version": "1.5.0",
            "_view_name": "IntSliderView",
            "continuous_update": true,
            "description": "LotArea",
            "description_tooltip": null,
            "disabled": false,
            "layout": "IPY_MODEL_3e9e04defc00419c8024e25fb17ca2f0",
            "max": 215245,
            "min": 1300,
            "orientation": "horizontal",
            "readout": true,
            "readout_format": "d",
            "step": 100,
            "style": "IPY_MODEL_1f11b7981fae4db490bf57652725f034",
            "value": 83300
          }
        },
        "44d9d89b0b7c43ae8422b43cd2649d94": {
          "model_module": "@jupyter-widgets/controls",
          "model_name": "IntSliderModel",
          "model_module_version": "1.5.0",
          "state": {
            "_dom_classes": [],
            "_model_module": "@jupyter-widgets/controls",
            "_model_module_version": "1.5.0",
            "_model_name": "IntSliderModel",
            "_view_count": null,
            "_view_module": "@jupyter-widgets/controls",
            "_view_module_version": "1.5.0",
            "_view_name": "IntSliderView",
            "continuous_update": true,
            "description": "YearBuilt",
            "description_tooltip": null,
            "disabled": false,
            "layout": "IPY_MODEL_981c40d1f4554c67b1a482ff84e2d276",
            "max": 2010,
            "min": 1872,
            "orientation": "horizontal",
            "readout": true,
            "readout_format": "d",
            "step": 1,
            "style": "IPY_MODEL_6d8f6cc06b834cda908c3d2d7139ad73",
            "value": 1902
          }
        },
        "3564778461a24157b98ef3b2ca1c9bf8": {
          "model_module": "@jupyter-widgets/controls",
          "model_name": "IntSliderModel",
          "model_module_version": "1.5.0",
          "state": {
            "_dom_classes": [],
            "_model_module": "@jupyter-widgets/controls",
            "_model_module_version": "1.5.0",
            "_model_name": "IntSliderModel",
            "_view_count": null,
            "_view_module": "@jupyter-widgets/controls",
            "_view_module_version": "1.5.0",
            "_view_name": "IntSliderView",
            "continuous_update": true,
            "description": "TotalBsmtSF",
            "description_tooltip": null,
            "disabled": false,
            "layout": "IPY_MODEL_25a222c148b747d28c2e2d43a829ed84",
            "max": 6110,
            "min": 0,
            "orientation": "horizontal",
            "readout": true,
            "readout_format": "d",
            "step": 100,
            "style": "IPY_MODEL_8451bcb96cd446bc9c3f46439d134e29",
            "value": 2800
          }
        },
        "666b96cb076d4f76a5fb5fd51067db95": {
          "model_module": "@jupyter-widgets/output",
          "model_name": "OutputModel",
          "model_module_version": "1.0.0",
          "state": {
            "_dom_classes": [],
            "_model_module": "@jupyter-widgets/output",
            "_model_module_version": "1.0.0",
            "_model_name": "OutputModel",
            "_view_count": null,
            "_view_module": "@jupyter-widgets/output",
            "_view_module_version": "1.0.0",
            "_view_name": "OutputView",
            "layout": "IPY_MODEL_0cb1a1844af440d68b7cc97e491ef629",
            "msg_id": "",
            "outputs": [
              {
                "output_type": "stream",
                "name": "stdout",
                "text": [
                  "Predicted House Price: 167051.0622273503\n"
                ]
              },
              {
                "output_type": "stream",
                "name": "stderr",
                "text": [
                  "/usr/local/lib/python3.10/dist-packages/sklearn/base.py:439: UserWarning: X does not have valid feature names, but StandardScaler was fitted with feature names\n",
                  "  warnings.warn(\n"
                ]
              }
            ]
          }
        },
        "95c71b7da2a24e2aaf4285978c29ae8a": {
          "model_module": "@jupyter-widgets/base",
          "model_name": "LayoutModel",
          "model_module_version": "1.2.0",
          "state": {
            "_model_module": "@jupyter-widgets/base",
            "_model_module_version": "1.2.0",
            "_model_name": "LayoutModel",
            "_view_count": null,
            "_view_module": "@jupyter-widgets/base",
            "_view_module_version": "1.2.0",
            "_view_name": "LayoutView",
            "align_content": null,
            "align_items": null,
            "align_self": null,
            "border": null,
            "bottom": null,
            "display": null,
            "flex": null,
            "flex_flow": null,
            "grid_area": null,
            "grid_auto_columns": null,
            "grid_auto_flow": null,
            "grid_auto_rows": null,
            "grid_column": null,
            "grid_gap": null,
            "grid_row": null,
            "grid_template_areas": null,
            "grid_template_columns": null,
            "grid_template_rows": null,
            "height": null,
            "justify_content": null,
            "justify_items": null,
            "left": null,
            "margin": null,
            "max_height": null,
            "max_width": null,
            "min_height": null,
            "min_width": null,
            "object_fit": null,
            "object_position": null,
            "order": null,
            "overflow": null,
            "overflow_x": null,
            "overflow_y": null,
            "padding": null,
            "right": null,
            "top": null,
            "visibility": null,
            "width": null
          }
        },
        "3e9e04defc00419c8024e25fb17ca2f0": {
          "model_module": "@jupyter-widgets/base",
          "model_name": "LayoutModel",
          "model_module_version": "1.2.0",
          "state": {
            "_model_module": "@jupyter-widgets/base",
            "_model_module_version": "1.2.0",
            "_model_name": "LayoutModel",
            "_view_count": null,
            "_view_module": "@jupyter-widgets/base",
            "_view_module_version": "1.2.0",
            "_view_name": "LayoutView",
            "align_content": null,
            "align_items": null,
            "align_self": null,
            "border": null,
            "bottom": null,
            "display": null,
            "flex": null,
            "flex_flow": null,
            "grid_area": null,
            "grid_auto_columns": null,
            "grid_auto_flow": null,
            "grid_auto_rows": null,
            "grid_column": null,
            "grid_gap": null,
            "grid_row": null,
            "grid_template_areas": null,
            "grid_template_columns": null,
            "grid_template_rows": null,
            "height": null,
            "justify_content": null,
            "justify_items": null,
            "left": null,
            "margin": null,
            "max_height": null,
            "max_width": null,
            "min_height": null,
            "min_width": null,
            "object_fit": null,
            "object_position": null,
            "order": null,
            "overflow": null,
            "overflow_x": null,
            "overflow_y": null,
            "padding": null,
            "right": null,
            "top": null,
            "visibility": null,
            "width": null
          }
        },
        "1f11b7981fae4db490bf57652725f034": {
          "model_module": "@jupyter-widgets/controls",
          "model_name": "SliderStyleModel",
          "model_module_version": "1.5.0",
          "state": {
            "_model_module": "@jupyter-widgets/controls",
            "_model_module_version": "1.5.0",
            "_model_name": "SliderStyleModel",
            "_view_count": null,
            "_view_module": "@jupyter-widgets/base",
            "_view_module_version": "1.2.0",
            "_view_name": "StyleView",
            "description_width": "",
            "handle_color": null
          }
        },
        "981c40d1f4554c67b1a482ff84e2d276": {
          "model_module": "@jupyter-widgets/base",
          "model_name": "LayoutModel",
          "model_module_version": "1.2.0",
          "state": {
            "_model_module": "@jupyter-widgets/base",
            "_model_module_version": "1.2.0",
            "_model_name": "LayoutModel",
            "_view_count": null,
            "_view_module": "@jupyter-widgets/base",
            "_view_module_version": "1.2.0",
            "_view_name": "LayoutView",
            "align_content": null,
            "align_items": null,
            "align_self": null,
            "border": null,
            "bottom": null,
            "display": null,
            "flex": null,
            "flex_flow": null,
            "grid_area": null,
            "grid_auto_columns": null,
            "grid_auto_flow": null,
            "grid_auto_rows": null,
            "grid_column": null,
            "grid_gap": null,
            "grid_row": null,
            "grid_template_areas": null,
            "grid_template_columns": null,
            "grid_template_rows": null,
            "height": null,
            "justify_content": null,
            "justify_items": null,
            "left": null,
            "margin": null,
            "max_height": null,
            "max_width": null,
            "min_height": null,
            "min_width": null,
            "object_fit": null,
            "object_position": null,
            "order": null,
            "overflow": null,
            "overflow_x": null,
            "overflow_y": null,
            "padding": null,
            "right": null,
            "top": null,
            "visibility": null,
            "width": null
          }
        },
        "6d8f6cc06b834cda908c3d2d7139ad73": {
          "model_module": "@jupyter-widgets/controls",
          "model_name": "SliderStyleModel",
          "model_module_version": "1.5.0",
          "state": {
            "_model_module": "@jupyter-widgets/controls",
            "_model_module_version": "1.5.0",
            "_model_name": "SliderStyleModel",
            "_view_count": null,
            "_view_module": "@jupyter-widgets/base",
            "_view_module_version": "1.2.0",
            "_view_name": "StyleView",
            "description_width": "",
            "handle_color": null
          }
        },
        "25a222c148b747d28c2e2d43a829ed84": {
          "model_module": "@jupyter-widgets/base",
          "model_name": "LayoutModel",
          "model_module_version": "1.2.0",
          "state": {
            "_model_module": "@jupyter-widgets/base",
            "_model_module_version": "1.2.0",
            "_model_name": "LayoutModel",
            "_view_count": null,
            "_view_module": "@jupyter-widgets/base",
            "_view_module_version": "1.2.0",
            "_view_name": "LayoutView",
            "align_content": null,
            "align_items": null,
            "align_self": null,
            "border": null,
            "bottom": null,
            "display": null,
            "flex": null,
            "flex_flow": null,
            "grid_area": null,
            "grid_auto_columns": null,
            "grid_auto_flow": null,
            "grid_auto_rows": null,
            "grid_column": null,
            "grid_gap": null,
            "grid_row": null,
            "grid_template_areas": null,
            "grid_template_columns": null,
            "grid_template_rows": null,
            "height": null,
            "justify_content": null,
            "justify_items": null,
            "left": null,
            "margin": null,
            "max_height": null,
            "max_width": null,
            "min_height": null,
            "min_width": null,
            "object_fit": null,
            "object_position": null,
            "order": null,
            "overflow": null,
            "overflow_x": null,
            "overflow_y": null,
            "padding": null,
            "right": null,
            "top": null,
            "visibility": null,
            "width": null
          }
        },
        "8451bcb96cd446bc9c3f46439d134e29": {
          "model_module": "@jupyter-widgets/controls",
          "model_name": "SliderStyleModel",
          "model_module_version": "1.5.0",
          "state": {
            "_model_module": "@jupyter-widgets/controls",
            "_model_module_version": "1.5.0",
            "_model_name": "SliderStyleModel",
            "_view_count": null,
            "_view_module": "@jupyter-widgets/base",
            "_view_module_version": "1.2.0",
            "_view_name": "StyleView",
            "description_width": "",
            "handle_color": null
          }
        },
        "0cb1a1844af440d68b7cc97e491ef629": {
          "model_module": "@jupyter-widgets/base",
          "model_name": "LayoutModel",
          "model_module_version": "1.2.0",
          "state": {
            "_model_module": "@jupyter-widgets/base",
            "_model_module_version": "1.2.0",
            "_model_name": "LayoutModel",
            "_view_count": null,
            "_view_module": "@jupyter-widgets/base",
            "_view_module_version": "1.2.0",
            "_view_name": "LayoutView",
            "align_content": null,
            "align_items": null,
            "align_self": null,
            "border": null,
            "bottom": null,
            "display": null,
            "flex": null,
            "flex_flow": null,
            "grid_area": null,
            "grid_auto_columns": null,
            "grid_auto_flow": null,
            "grid_auto_rows": null,
            "grid_column": null,
            "grid_gap": null,
            "grid_row": null,
            "grid_template_areas": null,
            "grid_template_columns": null,
            "grid_template_rows": null,
            "height": null,
            "justify_content": null,
            "justify_items": null,
            "left": null,
            "margin": null,
            "max_height": null,
            "max_width": null,
            "min_height": null,
            "min_width": null,
            "object_fit": null,
            "object_position": null,
            "order": null,
            "overflow": null,
            "overflow_x": null,
            "overflow_y": null,
            "padding": null,
            "right": null,
            "top": null,
            "visibility": null,
            "width": null
          }
        }
      }
    }
  },
  "cells": [
    {
      "cell_type": "markdown",
      "metadata": {
        "id": "view-in-github",
        "colab_type": "text"
      },
      "source": [
        "<a href=\"https://colab.research.google.com/github/balwanthr/house-price-prediction/blob/main/House_price_prediction.ipynb\" target=\"_parent\"><img src=\"https://colab.research.google.com/assets/colab-badge.svg\" alt=\"Open In Colab\"/></a>"
      ]
    },
    {
      "cell_type": "markdown",
      "source": [
        "TASK 1\n",
        "\n",
        "\n",
        "HOUSE PRICE PREDICTION\n",
        "\n",
        "This House Price Prediction system harnesses the power of artificial intelligence, machine learning algorithms, and vast datasets to unravel the complexities underlying property valuation. By leveraging historical sales data, demographic trends, economic indicators, and a myriad of other relevant factors, our system transcends traditional methodologies, offering a forward-looking perspective that adapts to the ever-changing dynamics of the real estate landscape.\n",
        "\n"
      ],
      "metadata": {
        "id": "alsin08_NhRS"
      }
    },
    {
      "cell_type": "code",
      "execution_count": 1,
      "metadata": {
        "colab": {
          "base_uri": "https://localhost:8080/",
          "height": 292,
          "referenced_widgets": [
            "140c0ccdb1104de286aff481dfa2076e",
            "bd4d66f1652a4848a0c1667179bd82c5",
            "84e091c43d074a1d992917edb1ab1ee4",
            "e13b733fee9942b5b01224517704210c",
            "3c368aa5e4ad48f0a8ac3f83cb246e2b",
            "babe8b0b2e3043deb300d8789af9a510",
            "5a1467f5de9442909c3c83207c2b8002",
            "ae043be0e5ec4ea4985c390605c5896e",
            "16031a8435e84a20beefa3790437ccbc",
            "3a233f88c18d48c5a7d483e90f131950",
            "b671c52502c74fec9a98b06bd1181a56"
          ]
        },
        "id": "ld-wrrqLL8Yq",
        "outputId": "599e044e-16db-4ac6-b8c3-e4895ed5efd3"
      },
      "outputs": [
        {
          "output_type": "display_data",
          "data": {
            "text/plain": [
              "Loading sheets:   0%|          | 0/1 [00:00<?, ?it/s]"
            ],
            "application/vnd.jupyter.widget-view+json": {
              "version_major": 2,
              "version_minor": 0,
              "model_id": "140c0ccdb1104de286aff481dfa2076e"
            }
          },
          "metadata": {}
        },
        {
          "output_type": "stream",
          "name": "stdout",
          "text": [
            "Head for Sheet1:\n",
            "   Id  MSSubClass MSZoning  LotArea LotConfig BldgType  OverallCond  \\\n",
            "0   0          60       RL     8450    Inside     1Fam            5   \n",
            "1   1          20       RL     9600       FR2     1Fam            8   \n",
            "2   2          60       RL    11250    Inside     1Fam            5   \n",
            "3   3          70       RL     9550    Corner     1Fam            5   \n",
            "4   4          60       RL    14260       FR2     1Fam            5   \n",
            "\n",
            "   YearBuilt  YearRemodAdd Exterior1st  BsmtFinSF2  TotalBsmtSF  SalePrice  \n",
            "0       2003          2003     VinylSd         0.0        856.0   208500.0  \n",
            "1       1976          1976     MetalSd         0.0       1262.0   181500.0  \n",
            "2       2001          2002     VinylSd         0.0        920.0   223500.0  \n",
            "3       1915          1970     Wd Sdng         0.0        756.0   140000.0  \n",
            "4       2000          2000     VinylSd         0.0       1145.0   250000.0  \n"
          ]
        }
      ],
      "source": [
        "import pandas as pd\n",
        "from tqdm.notebook import tqdm\n",
        "\n",
        "def read_all_sheets_from_excel(path: str) -> dict:\n",
        "    all_sheets = pd.read_excel(path, sheet_name=None)\n",
        "    for name, df in tqdm(all_sheets.items(), desc='Loading sheets'):\n",
        "        df.columns = [c.strip() if isinstance(c, str) else c for c in df.columns]\n",
        "        df = df.apply(lambda col: col.str.strip() if col.dtype == \"object\" else col)\n",
        "        all_sheets[name] = df\n",
        "    return all_sheets\n",
        "\n",
        "# Load the data\n",
        "file_path = 'HousePricePrediction.xlsx'\n",
        "dataframes = read_all_sheets_from_excel(file_path)\n",
        "\n",
        "# Print each dataframe name and head\n",
        "for sheet_name, df in dataframes.items():\n",
        "    print(f'Head for {sheet_name}:')\n",
        "    print(df.head())"
      ]
    },
    {
      "cell_type": "markdown",
      "source": [
        "The head of the dataframe from 'Sheet1' shows a selection of features that could be relevant for predicting house prices, such as 'MSSubClass', 'MSZoning', 'LotArea', and others, including the target variable 'SalePrice'.\n",
        "\n",
        "Next, I will plot some distributions for the numerical columns to understand the data better. This will include histograms for features like 'LotArea', 'YearBuilt', 'TotalBsmtSF', and the target 'SalePrice'. Let's proceed with that.\n"
      ],
      "metadata": {
        "id": "w3nOvN4bMPRk"
      }
    },
    {
      "cell_type": "code",
      "source": [
        "import matplotlib.pyplot as plt\n",
        "\n",
        "# Selecting numerical columns for distribution plots\n",
        "numerical_columns = ['LotArea', 'YearBuilt', 'TotalBsmtSF', 'SalePrice']\n",
        "df = dataframes['Sheet1'][numerical_columns]\n",
        "\n",
        "# Plotting distributions using histograms\n",
        "plt.figure(figsize=(20, 15))\n",
        "for i, col in enumerate(numerical_columns, 1):\n",
        "    plt.subplot(2, 2, i)\n",
        "    df[col].hist(bins=50)\n",
        "    plt.title('Distribution of ' + col)\n",
        "    plt.xlabel(col)\n",
        "    plt.ylabel('Frequency')\n",
        "\n",
        "plt.tight_layout()\n",
        "plt.show()"
      ],
      "metadata": {
        "colab": {
          "base_uri": "https://localhost:8080/",
          "height": 850
        },
        "id": "k9UXsmEFMPvR",
        "outputId": "61d8de4a-37c0-4264-f6b0-fe8906a07f7d"
      },
      "execution_count": 2,
      "outputs": [
        {
          "output_type": "display_data",
          "data": {
            "text/plain": [
              "<Figure size 2000x1500 with 4 Axes>"
            ],
            "image/png": "[encoded data removed]"
          },
          "metadata": {}
        }
      ]
    },
    {
      "cell_type": "markdown",
      "source": [
        "These histograms provide a visual summary of the distributions of each numerical feature, which is essential for understanding the range and common values for each feature in the dataset.\n",
        "\n",
        "Now, I will proceed to check for any missing values in the dataset, which is a crucial step before applying any machine learning model."
      ],
      "metadata": {
        "id": "Fq9On5M4MVEw"
      }
    },
    {
      "cell_type": "code",
      "source": [
        "# Checking for missing values\n",
        "missing_values = df.isnull().sum()\n",
        "missing_values = missing_values[missing_values > 0]\n",
        "print('Missing values in each column:')\n",
        "print(missing_values)"
      ],
      "metadata": {
        "colab": {
          "base_uri": "https://localhost:8080/"
        },
        "id": "6AsPNI6iMYS6",
        "outputId": "e56fd5e4-951f-4c10-e1f7-cb2364c045f7"
      },
      "execution_count": 3,
      "outputs": [
        {
          "output_type": "stream",
          "name": "stdout",
          "text": [
            "Missing values in each column:\n",
            "TotalBsmtSF       1\n",
            "SalePrice      1459\n",
            "dtype: int64\n"
          ]
        }
      ]
    },
    {
      "cell_type": "markdown",
      "source": [
        "There are missing values in the 'TotalBsmtSF' and 'SalePrice' columns. Specifically, 'TotalBsmtSF' has 1 missing value, and 'SalePrice' has 1459 missing values, which is quite significant.\n",
        "\n",
        "Before proceeding with the Support Vector Machine (SVM) model, we need to address these missing values. Here are a couple of options:\n",
        "\n",
        "For 'TotalBsmtSF', since there is only one missing value, we could fill it with the median or mean of the column.\n",
        "For 'SalePrice', the large number of missing values suggests that this might be a split between training and test sets. If 'SalePrice' is the target variable, we would not fill these values but ensure that the model is trained only on the non-missing values."
      ],
      "metadata": {
        "id": "Kn1NbBW9MbdR"
      }
    },
    {
      "cell_type": "code",
      "source": [
        "# Fill the single missing 'TotalBsmtSF' value with the median\n",
        "median_total_bsmt_sf = df['TotalBsmtSF'].median()\n",
        "df['TotalBsmtSF'].fillna(median_total_bsmt_sf, inplace=True)\n",
        "\n",
        "# Confirm the missing value has been filled\n",
        "missing_values_after_filling = df.isnull().sum()\n",
        "missing_values_after_filling = missing_values_after_filling[missing_values_after_filling > 0]\n",
        "print('Missing values after filling TotalBsmtSF:')\n",
        "print(missing_values_after_filling)\n",
        "\n",
        "# Separating the dataset into training and test sets based on 'SalePrice' missing values\n",
        "train_df = df[df['SalePrice'].notnull()]\n",
        "test_df = df[df['SalePrice'].isnull()]\n",
        "\n",
        "# Display the shapes of the train and test sets\n",
        "print('Training set shape:', train_df.shape)\n",
        "print('Test set shape:', test_df.shape)"
      ],
      "metadata": {
        "colab": {
          "base_uri": "https://localhost:8080/"
        },
        "id": "6we4HKqlMcbq",
        "outputId": "29ccc04c-41c8-4a71-c0df-42e372206233"
      },
      "execution_count": 4,
      "outputs": [
        {
          "output_type": "stream",
          "name": "stdout",
          "text": [
            "Missing values after filling TotalBsmtSF:\n",
            "SalePrice    1459\n",
            "dtype: int64\n",
            "Training set shape: (1460, 4)\n",
            "Test set shape: (1459, 4)\n"
          ]
        },
        {
          "output_type": "stream",
          "name": "stderr",
          "text": [
            "<ipython-input-4-f77a64e195fd>:3: SettingWithCopyWarning: \n",
            "A value is trying to be set on a copy of a slice from a DataFrame\n",
            "\n",
            "See the caveats in the documentation: https://pandas.pydata.org/pandas-docs/stable/user_guide/indexing.html#returning-a-view-versus-a-copy\n",
            "  df['TotalBsmtSF'].fillna(median_total_bsmt_sf, inplace=True)\n"
          ]
        }
      ]
    },
    {
      "cell_type": "markdown",
      "source": [
        "Prepare the dataset for a machine learning model by handling missing values in the 'TotalBsmtSF' column, separating the data into training and test sets based on the availability of the 'SalePrice' values, and checking for any remaining missing values in the dataset. The filling of the missing 'TotalBsmtSF' value with the median ensures that the dataset is ready for further analysis and modeling."
      ],
      "metadata": {
        "id": "1AmCCW7RMo0B"
      }
    },
    {
      "cell_type": "code",
      "source": [
        "from sklearn.model_selection import train_test_split\n",
        "from sklearn.preprocessing import StandardScaler\n",
        "from sklearn.svm import SVR\n",
        "from sklearn.pipeline import make_pipeline\n",
        "from sklearn.metrics import mean_squared_error\n",
        "from math import sqrt\n",
        "\n",
        "# Preparing the feature matrix and target vector\n",
        "X = train_df.drop('SalePrice', axis=1)\n",
        "y = train_df['SalePrice']\n",
        "\n",
        "# Splitting the training set for model validation\n",
        "X_train, X_val, y_train, y_val = train_test_split(X, y, test_size=0.2, random_state=42)\n",
        "\n",
        "# Creating an SVM model with a pipeline that includes scaling\n",
        "svm_pipeline = make_pipeline(StandardScaler(), SVR(kernel='linear'))\n",
        "\n",
        "# Training the model\n",
        "svm_pipeline.fit(X_train, y_train)\n",
        "\n",
        "# Predicting on the validation set\n",
        "y_pred = svm_pipeline.predict(X_val)\n",
        "\n",
        "# Calculating RMSE for the validation predictions\n",
        "rmse = sqrt(mean_squared_error(y_val, y_pred))\n",
        "print('RMSE on validation set:', rmse)"
      ],
      "metadata": {
        "colab": {
          "base_uri": "https://localhost:8080/"
        },
        "id": "NVwnLwZBMpoe",
        "outputId": "0e229b6a-60dc-4348-822f-6b6aa58cdd5c"
      },
      "execution_count": 5,
      "outputs": [
        {
          "output_type": "stream",
          "name": "stdout",
          "text": [
            "RMSE on validation set: 87986.80442790122\n"
          ]
        }
      ]
    },
    {
      "cell_type": "markdown",
      "source": [
        "This code is implementing a simple interactive front-end interface using the ipywidgets library in Python, allowing users to input values for three features—'LotArea,' 'YearBuilt,' and 'TotalBsmtSF'—and receive a predicted house price based on a pre-trained Support Vector Machine (SVM) regression model."
      ],
      "metadata": {
        "id": "ebv6CMBvMwAz"
      }
    },
    {
      "cell_type": "code",
      "source": [
        "# Adjusting the front-end interface to match the model's expected number of features\n",
        "# We will use the three features that were used during the model training\n",
        "\n",
        "# Create input widgets for the house features\n",
        "lotarea_widget = widgets.IntSlider(value=8450, min=1300, max=215245, step=100, description='LotArea')\n",
        "yearbuilt_widget = widgets.IntSlider(value=2003, min=1872, max=2010, step=1, description='YearBuilt')\n",
        "totalbsmtsf_widget = widgets.IntSlider(value=856, min=0, max=6110, step=100, description='TotalBsmtSF')\n",
        "\n",
        "# Define the function to predict house price based on input features\n",
        "@interact(LotArea=lotarea_widget, YearBuilt=yearbuilt_widget, TotalBsmtSF=totalbsmtsf_widget)\n",
        "def predict_house_price(LotArea, YearBuilt, TotalBsmtSF):\n",
        "    input_features = [[LotArea, YearBuilt, TotalBsmtSF]]\n",
        "    # Scaling the input features\n",
        "    input_features_scaled = svm_pipeline.named_steps['standardscaler'].transform(input_features)\n",
        "    # Predicting the house price\n",
        "    predicted_price = svm_pipeline.named_steps['svr'].predict(input_features_scaled)\n",
        "    print('Predicted House Price:', predicted_price[0])"
      ],
      "metadata": {
        "colab": {
          "base_uri": "https://localhost:8080/",
          "height": 182,
          "referenced_widgets": [
            "59200c2bf8db46b5bc3d3bc3186e2986",
            "8b7b1d50f8b6470c9ec4baed1625fd50",
            "44d9d89b0b7c43ae8422b43cd2649d94",
            "3564778461a24157b98ef3b2ca1c9bf8",
            "666b96cb076d4f76a5fb5fd51067db95",
            "95c71b7da2a24e2aaf4285978c29ae8a",
            "3e9e04defc00419c8024e25fb17ca2f0",
            "1f11b7981fae4db490bf57652725f034",
            "981c40d1f4554c67b1a482ff84e2d276",
            "6d8f6cc06b834cda908c3d2d7139ad73",
            "25a222c148b747d28c2e2d43a829ed84",
            "8451bcb96cd446bc9c3f46439d134e29",
            "0cb1a1844af440d68b7cc97e491ef629"
          ]
        },
        "id": "DKh5OyJdNG62",
        "outputId": "7e417f01-345a-459f-93ad-9240a12f7856"
      },
      "execution_count": 9,
      "outputs": [
        {
          "output_type": "display_data",
          "data": {
            "text/plain": [
              "interactive(children=(IntSlider(value=8450, description='LotArea', max=215245, min=1300, step=100), IntSlider(…"
            ],
            "application/vnd.jupyter.widget-view+json": {
              "version_major": 2,
              "version_minor": 0,
              "model_id": "59200c2bf8db46b5bc3d3bc3186e2986"
            }
          },
          "metadata": {}
        }
      ]
    }
  ]
}